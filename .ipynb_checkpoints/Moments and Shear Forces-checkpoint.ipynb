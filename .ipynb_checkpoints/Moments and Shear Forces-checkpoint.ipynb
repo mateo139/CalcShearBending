{
 "cells": [
  {
   "cell_type": "code",
   "execution_count": 12,
   "metadata": {},
   "outputs": [
    {
     "name": "stdout",
     "output_type": "stream",
     "text": [
      "size of array is:  3\n",
      "dimensions of array are:  2\n",
      "shape of array is:  (1, 3)\n",
      "[[  6   0 -90]]\n",
      "6\n",
      "0\n",
      "-90\n",
      "[[  6   0 -90]]\n"
     ]
    },
    {
     "ename": "IndexError",
     "evalue": "index 0 is out of bounds for axis 1 with size 0",
     "output_type": "error",
     "traceback": [
      "\u001b[1;31m---------------------------------------------------------------------------\u001b[0m",
      "\u001b[1;31mIndexError\u001b[0m                                Traceback (most recent call last)",
      "Cell \u001b[1;32mIn[12], line 63\u001b[0m\n\u001b[0;32m     60\u001b[0m \u001b[38;5;28;01mif\u001b[39;00m (nPL\u001b[38;5;241m>\u001b[39m\u001b[38;5;241m0\u001b[39m):\n\u001b[0;32m     61\u001b[0m     \u001b[38;5;28;01mfor\u001b[39;00m n, p \u001b[38;5;129;01min\u001b[39;00m \u001b[38;5;28menumerate\u001b[39m(pointLoads):\n\u001b[0;32m     62\u001b[0m         \u001b[38;5;66;03m#print (enumerate(pointLoads))\u001b[39;00m\n\u001b[1;32m---> 63\u001b[0m         va, vb, ha \u001b[38;5;241m=\u001b[39m \u001b[43mreactions_PL\u001b[49m\u001b[43m(\u001b[49m\u001b[43mn\u001b[49m\u001b[43m)\u001b[49m \u001b[38;5;66;03m#Calculate reactions\u001b[39;00m\n\u001b[0;32m     64\u001b[0m         PL_record \u001b[38;5;241m=\u001b[39m np\u001b[38;5;241m.\u001b[39mappend(PL_record, [np\u001b[38;5;241m.\u001b[39marray([va, ha, vb])], axis\u001b[38;5;241m=\u001b[39m\u001b[38;5;241m0\u001b[39m)\n\u001b[0;32m     66\u001b[0m         reactions[\u001b[38;5;241m0\u001b[39m] \u001b[38;5;241m=\u001b[39m reactions[\u001b[38;5;241m0\u001b[39m] \u001b[38;5;241m+\u001b[39m va\n",
      "Cell \u001b[1;32mIn[12], line 44\u001b[0m, in \u001b[0;36mreactions_PL\u001b[1;34m(n)\u001b[0m\n\u001b[0;32m     43\u001b[0m \u001b[38;5;28;01mdef\u001b[39;00m \u001b[38;5;21mreactions_PL\u001b[39m(n):\n\u001b[1;32m---> 44\u001b[0m     xp \u001b[38;5;241m=\u001b[39m \u001b[43mpointLoads\u001b[49m\u001b[43m[\u001b[49m\u001b[43mn\u001b[49m\u001b[43m,\u001b[49m\u001b[43m \u001b[49m\u001b[38;5;241;43m0\u001b[39;49m\u001b[43m]\u001b[49m\n\u001b[0;32m     45\u001b[0m     fx \u001b[38;5;241m=\u001b[39m pointLoads[n, \u001b[38;5;241m1\u001b[39m]\n\u001b[0;32m     46\u001b[0m     fy \u001b[38;5;241m=\u001b[39m pointLoads[n, \u001b[38;5;241m2\u001b[39m]\n",
      "\u001b[1;31mIndexError\u001b[0m: index 0 is out of bounds for axis 1 with size 0"
     ]
    }
   ],
   "source": [
    "# NOT TO EDIT\n",
    "#pointLoads = np.array([[]]) #point forces (location, xMag, yMag)\n",
    "\n",
    "# INPUT SPAN AND FORCE DATA \n",
    "span = 17\n",
    "A = 3 #distance of A support from the left\n",
    "B = 13 #distance of B support form the left\n",
    "\n",
    "# DEPENDENCIES & DEAFULTS\n",
    "import math \n",
    "import numpy as np\n",
    "\n",
    "# INPUT FORCE DATA\n",
    "pointLoads = np.array([[6, 0, -90]])\n",
    "print (\"size of array is: \", pointLoads.size)\n",
    "print (\"dimensions of array are: \", pointLoads.ndim)\n",
    "print (\"shape of array is: \", pointLoads.shape)\n",
    "print (pointLoads)\n",
    "print (pointLoads[0, 0])\n",
    "print (pointLoads[0, 1])\n",
    "print (pointLoads[0, 2])\n",
    "#print(pointLoads[0,2])\n",
    "pointMoments = np.array([[17,50]])\n",
    "linearLoads = np.array([[8, 17, -10, 0]])\n",
    "print(pointLoads)\n",
    "\n",
    "# Defaults and initialisations\n",
    "diva = 10000 #divide the span up to into this number of data points\n",
    "delta = span/diva #distance between data points\n",
    "X = np.arange(0, span + delta, delta) #range of X-coordinates\n",
    "nPL = len (pointLoads[0])\n",
    "#print (nPL)\n",
    "\n",
    "reactions = np.array([0.0, 0, 0])\n",
    "shearForce = np.empty ([0, len (X)])\n",
    "bendingMoment = np.empty ([0, len (X)])\n",
    "\n",
    "# NOT EDIT\n",
    "pointLoads = np.array([[]]) #point forces (location, xMag, yMag)\n",
    "\n",
    "# REACTION CALCULATION\n",
    "\n",
    "def reactions_PL(n):\n",
    "    xp = pointLoads[n, 0]\n",
    "    fx = pointLoads[n, 1]\n",
    "    fy = pointLoads[n, 2]\n",
    "    \n",
    "    la_p = A-xp\n",
    "    mp = fy*la_p\n",
    "    la_vb = B-A\n",
    "    \n",
    "    Vb = mp/la_vb\n",
    "    Va = -fy-Vb\n",
    "    Ba = -fx\n",
    "    \n",
    "    return Va, Vb, Ha\n",
    "    \n",
    "\n",
    "PL_record = np.empty ([0,3])\n",
    "if (nPL>0):\n",
    "    for n, p in enumerate(pointLoads):\n",
    "        #print (enumerate(pointLoads))\n",
    "        va, vb, ha = reactions_PL(n) #Calculate reactions\n",
    "        PL_record = np.append(PL_record, [np.array([va, ha, vb])], axis=0)\n",
    "        \n",
    "        reactions[0] = reactions[0] + va\n",
    "        reactions[1] = reactions[1] + ha\n",
    "        reactions[2] = reactions[2] + vb\n",
    "    \n",
    "# PLOTTING AND PRINTING \n",
    "print (\"The vertical reaction at A is (one) kN\", format(one = round(reactions[0],2)))\n",
    "print (\"The vertical reaction at B is (one) kN\", format(one = round(reactions[2],2)))\n",
    "print (\"The horizontal reaction at A is (one) kN\", format(one = round(reactions[1],2)))"
   ]
  },
  {
   "cell_type": "code",
   "execution_count": 27,
   "metadata": {},
   "outputs": [
    {
     "name": "stdout",
     "output_type": "stream",
     "text": [
      "0 a\n",
      "1 b\n",
      "2 c\n"
     ]
    }
   ],
   "source": [
    "values = [\"a\", \"b\", \"c\"]\n",
    "for count, value in enumerate(values):\n",
    "   print(count, value)"
   ]
  },
  {
   "cell_type": "markdown",
   "metadata": {},
   "source": []
  }
 ],
 "metadata": {
  "kernelspec": {
   "display_name": "Python 3 (ipykernel)",
   "language": "python",
   "name": "python3"
  },
  "language_info": {
   "codemirror_mode": {
    "name": "ipython",
    "version": 3
   },
   "file_extension": ".py",
   "mimetype": "text/x-python",
   "name": "python",
   "nbconvert_exporter": "python",
   "pygments_lexer": "ipython3",
   "version": "3.9.13"
  }
 },
 "nbformat": 4,
 "nbformat_minor": 4
}
