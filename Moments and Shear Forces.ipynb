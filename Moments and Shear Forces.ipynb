{
 "cells": [
  {
   "attachments": {},
   "cell_type": "markdown",
   "metadata": {},
   "source": [
    "# SHEAR FORCES AND MOMENTS CALCULATOR"
   ]
  },
  {
   "cell_type": "code",
   "execution_count": 3,
   "metadata": {},
   "outputs": [
    {
     "name": "stdout",
     "output_type": "stream",
     "text": [
      "size of array is:  3\n",
      "dimensions of array are:  2\n",
      "shape of array is:  (1, 3)\n",
      "[[  6   0 -90]]\n",
      "6\n",
      "0\n",
      "-90\n",
      "[[  6   0 -90]]\n",
      "0\n",
      "[[  6   0 -90]]\n"
     ]
    },
    {
     "ename": "NameError",
     "evalue": "name 'Ha' is not defined",
     "output_type": "error",
     "traceback": [
      "\u001b[1;31m---------------------------------------------------------------------------\u001b[0m",
      "\u001b[1;31mNameError\u001b[0m                                 Traceback (most recent call last)",
      "Cell \u001b[1;32mIn[3], line 63\u001b[0m\n\u001b[0;32m     60\u001b[0m \u001b[39mif\u001b[39;00m nPL \u001b[39m>\u001b[39m \u001b[39m0\u001b[39m:\n\u001b[0;32m     61\u001b[0m     \u001b[39mfor\u001b[39;00m n, p \u001b[39min\u001b[39;00m \u001b[39menumerate\u001b[39m(pointLoads):\n\u001b[0;32m     62\u001b[0m         \u001b[39m# print (enumerate(pointLoads))\u001b[39;00m\n\u001b[1;32m---> 63\u001b[0m         va, vb, ha \u001b[39m=\u001b[39m reactions_PL(n)  \u001b[39m# Calculate reactions\u001b[39;00m\n\u001b[0;32m     64\u001b[0m         PL_record \u001b[39m=\u001b[39m np\u001b[39m.\u001b[39mappend(PL_record, [np\u001b[39m.\u001b[39marray([va, ha, vb])], axis\u001b[39m=\u001b[39m\u001b[39m0\u001b[39m)\n\u001b[0;32m     66\u001b[0m         reactions[\u001b[39m0\u001b[39m] \u001b[39m=\u001b[39m reactions[\u001b[39m0\u001b[39m] \u001b[39m+\u001b[39m va\n",
      "Cell \u001b[1;32mIn[3], line 56\u001b[0m, in \u001b[0;36mreactions_PL\u001b[1;34m(n)\u001b[0m\n\u001b[0;32m     53\u001b[0m Va \u001b[39m=\u001b[39m \u001b[39m-\u001b[39mfy \u001b[39m-\u001b[39m Vb\n\u001b[0;32m     54\u001b[0m Ba \u001b[39m=\u001b[39m \u001b[39m-\u001b[39mfx\n\u001b[1;32m---> 56\u001b[0m \u001b[39mreturn\u001b[39;00m Va, Vb, Ha\n",
      "\u001b[1;31mNameError\u001b[0m: name 'Ha' is not defined"
     ]
    }
   ],
   "source": [
    "# NOT TO EDIT\n",
    "# pointLoads = np.array([[]]) #point forces (location, xMag, yMag)\n",
    "\n",
    "# INPUT SPAN AND FORCE DATA\n",
    "span = 17\n",
    "A = 3  # distance of A support from the left\n",
    "B = 13  # distance of B support form the left\n",
    "\n",
    "# DEPENDENCIES & DEAFULTS\n",
    "import math\n",
    "import numpy as np\n",
    "\n",
    "# INPUT FORCE DATA\n",
    "pointLoads = np.array([[6, 0, -90]])\n",
    "print(\"size of array is: \", pointLoads.size)\n",
    "print(\"dimensions of array are: \", pointLoads.ndim)\n",
    "print(\"shape of array is: \", pointLoads.shape)\n",
    "print(pointLoads)\n",
    "print(pointLoads[0, 0])\n",
    "print(pointLoads[0, 1])\n",
    "print(pointLoads[0, 2])\n",
    "# print(pointLoads[0,2])\n",
    "pointMoments = np.array([[17, 50]])\n",
    "linearLoads = np.array([[8, 17, -10, 0]])\n",
    "print(pointLoads)\n",
    "\n",
    "# Defaults and initialisations\n",
    "diva = 10000  # divide the span up to into this number of data points\n",
    "delta = span / diva  # distance between data points\n",
    "X = np.arange(0, span + delta, delta)  # range of X-coordinates\n",
    "nPL = len(pointLoads[0])\n",
    "# print (nPL)\n",
    "\n",
    "reactions = np.array([0.0, 0, 0])\n",
    "shearForce = np.empty([0, len(X)])\n",
    "bendingMoment = np.empty([0, len(X)])\n",
    "\n",
    "# REACTION CALCULATION\n",
    "\n",
    "\n",
    "def reactions_PL(n):\n",
    "    print(n)\n",
    "    print(pointLoads)\n",
    "    xp = pointLoads[n, 0]\n",
    "    fx = pointLoads[n, 1]\n",
    "    fy = pointLoads[n, 2]\n",
    "\n",
    "    la_p = A - xp\n",
    "    mp = fy * la_p\n",
    "    la_vb = B - A\n",
    "\n",
    "    Vb = mp / la_vb\n",
    "    Va = -fy - Vb\n",
    "    Ba = -fx\n",
    "\n",
    "    return Va, Vb, Ha\n",
    "\n",
    "\n",
    "PL_record = np.empty([0, 3])\n",
    "if nPL > 0:\n",
    "    for n, p in enumerate(pointLoads):\n",
    "        # print (enumerate(pointLoads))\n",
    "        va, vb, ha = reactions_PL(n)  # Calculate reactions\n",
    "        PL_record = np.append(PL_record, [np.array([va, ha, vb])], axis=0)\n",
    "\n",
    "        reactions[0] = reactions[0] + va\n",
    "        reactions[1] = reactions[1] + ha\n",
    "        reactions[2] = reactions[2] + vb\n",
    "\n",
    "# PLOTTING AND PRINTING\n",
    "print(\"The vertical reaction at A is (one) kN\", format(one=round(reactions[0], 2)))\n",
    "print(\"The vertical reaction at B is (one) kN\", format(one=round(reactions[2], 2)))\n",
    "print(\"The horizontal reaction at A is (one) kN\", format(one=round(reactions[1], 2)))"
   ]
  },
  {
   "cell_type": "code",
   "execution_count": 5,
   "metadata": {},
   "outputs": [
    {
     "name": "stdout",
     "output_type": "stream",
     "text": [
      "0 a\n",
      "1 b\n",
      "2 c\n"
     ]
    }
   ],
   "source": [
    "values = [\"a\", \"b\", \"c\"]\n",
    "for count, value in enumerate(values):\n",
    "   print(count, value)"
   ]
  },
  {
   "cell_type": "code",
   "execution_count": 6,
   "metadata": {},
   "outputs": [
    {
     "name": "stdout",
     "output_type": "stream",
     "text": [
      "['a', 'b', 'c']\n"
     ]
    }
   ],
   "source": [
    "print(values)"
   ]
  },
  {
   "cell_type": "markdown",
   "metadata": {},
   "source": []
  }
 ],
 "metadata": {
  "kernelspec": {
   "display_name": "Python 3",
   "language": "python",
   "name": "python3"
  },
  "language_info": {
   "codemirror_mode": {
    "name": "ipython",
    "version": 3
   },
   "file_extension": ".py",
   "mimetype": "text/x-python",
   "name": "python",
   "nbconvert_exporter": "python",
   "pygments_lexer": "ipython3",
   "version": "3.9.13"
  },
  "vscode": {
   "interpreter": {
    "hash": "d7b1aa1355ba9acd3f063de1bc2e3391a4562c1c80afe3174e2226f4d1b540cd"
   }
  }
 },
 "nbformat": 4,
 "nbformat_minor": 4
}
